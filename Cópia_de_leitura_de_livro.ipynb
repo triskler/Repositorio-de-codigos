{
  "nbformat": 4,
  "nbformat_minor": 0,
  "metadata": {
    "colab": {
      "name": "Cópia de leitura de livro",
      "provenance": [],
      "authorship_tag": "ABX9TyM4+hnnGWwfWvGS9MIzPJUY",
      "include_colab_link": true
    },
    "kernelspec": {
      "name": "python3",
      "display_name": "Python 3"
    },
    "language_info": {
      "name": "python"
    }
  },
  "cells": [
    {
      "cell_type": "markdown",
      "metadata": {
        "id": "view-in-github",
        "colab_type": "text"
      },
      "source": [
        "<a href=\"https://colab.research.google.com/github/triskler/Repositorio-de-codigos/blob/main/C%C3%B3pia_de_leitura_de_livro.ipynb\" target=\"_parent\"><img src=\"https://colab.research.google.com/assets/colab-badge.svg\" alt=\"Open In Colab\"/></a>"
      ]
    },
    {
      "cell_type": "code",
      "source": [
        "#abertura do arquivo\n",
        "name = input('Insira o arquivo:')\n",
        "handle = open(name)\n",
        "\n",
        "#separando linhas e palavras\n",
        "#montando dicionario e contando palavras\n",
        "counts = dict()\n",
        "for line in handle:\n",
        "  words = line.split()\n",
        "  for word in words:\n",
        "    counts[word] = counts[word].get(word, 0) + 1\n",
        "\n",
        "#selecionando a palavra mais mencionada \n",
        "\n",
        "bigWord = None\n",
        "bigCount = None\n",
        "for word,count in counts.items():\n",
        "  if bigCount is None or count > bigCount:\n",
        "    bigWord = word\n",
        "    bigCount = count\n",
        "\n",
        "#saida de dados\n",
        "\n",
        "print(bigWord, bigCount)\n",
        "\n",
        "\n",
        "\n"
      ],
      "metadata": {
        "id": "UwQ_NBEVzgf1"
      },
      "execution_count": null,
      "outputs": []
    }
  ]
}